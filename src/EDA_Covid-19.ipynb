{
 "cells": [
  {
   "cell_type": "markdown",
   "id": "da25e583",
   "metadata": {
    "pycharm": {
     "name": "#%% md\n"
    }
   },
   "source": [
    "## Projeto"
   ]
  },
  {
   "cell_type": "markdown",
   "id": "1d6e3a2f",
   "metadata": {
    "pycharm": {
     "name": "#%% md\n"
    }
   },
   "source": [
    "O projeto desde módulo será uma aplicação prática do conteúdo de visualização de dados no python.  \n",
    "  \n",
    "**Objetivo**  \n",
    "Realizar um EDA (Exploratory Data Analysis) implementando gráficos para tornar o resultado visual. Lembre-se de explorar as bibliotecas estudadas neste módulo (Pandas, Matplotlib, Plotly, Seaborn)  \n",
    "  \n",
    "**Base de Dados**  \n",
    "Cada grupo será responsável por buscar uma base de dados de seu interesse  \n",
    "  \n",
    "**Composição das duplas**  \n",
    "As duplas estão descritas segundo o excel \"Equipes\" presente no google drive, na pasta \"projeto\"  \n",
    "  \n",
    "**Github**  \n",
    "Na mesma planilha das duplas insiram o link para o github  \n",
    "  \n",
    "**Apresentação**  \n",
    "A apresentação poderá ser construída no formato de preferência (jupyter notebook, power point..)  \n",
    "  \n",
    "**Tempo de apresentação**  \n",
    "Cada grupo terá no máximo 10 minutos para apresentar o EDA  \n",
    "  \n",
    "**Avaliação**  \n",
    "Para a avaliação serão considerados os seguintes pontos\n",
    "1. Entendimento do contexto em que se encaixa a base de dados\n",
    "2. Uso de todas bibliotecas apresentadas neste módulo para criação de gráficos (ao menos um gráfico de cada biblioteca)\n",
    "3. Apresentação das características do conjunto de dados fornecido, destacando sua visão geral acerca do conjunto de dados e tecendo críticas e comentários\n",
    "4. Uso dos diferentes tipos de gráficos com as variáveis numéricas e categóricas \n",
    "5. Identificação e discussão de missings ou outliers na base de dados\n",
    "6. Outras análises que sejam pertinentes \n",
    "  \n",
    "**Data de apresentação**  \n",
    "08/06/2022  \n",
    "  \n",
    "**Obs. 1**: Não esqueçam de considerar se as informações são públicas  \n",
    "**Obs. 2**: Não esqueçam de se divertirem fazendo isso! :D  \n",
    "  \n",
    "**BOM TRABALHO!**"
   ]
  },
  {
   "cell_type": "markdown",
   "source": [
    "<span style=\"color:blue;font-weight:700;font-size:36px\">\n",
    "Análise Exploratória de Dados - Covid 19\n",
    "</span>\n",
    "\n",
    "\n",
    "___\n",
    "\n",
    "\n",
    "<span style=\"color:green;font-weight:450;font-size:22px\">\n",
    "Baseado nas fontes de dados disponibilizadas pelo COVID-19 Data Repository by the Center for Systems Science and Engineering (CSSE) at Johns Hopkins University\n",
    "<br></span>\n",
    "\n",
    "\n",
    "\n",
    "https://github.com/CSSEGISandData/COVID-19"
   ],
   "metadata": {
    "collapsed": false,
    "pycharm": {
     "name": "#%% md\n"
    }
   }
  },
  {
   "cell_type": "code",
   "execution_count": 2,
   "outputs": [
    {
     "name": "stdout",
     "output_type": "stream",
     "text": [
      ">>>>>> Bibliotecas importadas com sucesso <<<<<<<<\n"
     ]
    }
   ],
   "source": [
    "import pandas as pd\n",
    "import numpy as np\n",
    "import matplotlib.pyplot as plt\n",
    "import seaborn as sns\n",
    "import plotly as px\n",
    "print(\">>>>>> Bibliotecas importadas com sucesso <<<<<<<<\")"
   ],
   "metadata": {
    "collapsed": false,
    "pycharm": {
     "name": "#%%\n"
    }
   }
  },
  {
   "cell_type": "markdown",
   "source": [
    "<span style=\"color:green;font-weight:450;font-size:22px\">\n",
    "Importando as bases de dados\n",
    "</span>"
   ],
   "metadata": {
    "collapsed": false,
    "pycharm": {
     "name": "#%% md\n"
    }
   }
  },
  {
   "cell_type": "code",
   "execution_count": 3,
   "outputs": [
    {
     "name": "stdout",
     "output_type": "stream",
     "text": [
      ">>>>>> Bases de dados importadas com sucesso <<<<<<<<\n"
     ]
    }
   ],
   "source": [
    "deaths = pd.read_csv(\"https://raw.githubusercontent.com/CSSEGISandData/COVID-19/master/csse_covid_19_data/csse_covid_19_time_series/time_series_covid19_deaths_global.csv\")\n",
    "\n",
    "confirmed = pd.read_csv(\"https://raw.githubusercontent.com/CSSEGISandData/COVID-19/master/csse_covid_19_data/csse_covid_19_time_series/time_series_covid19_confirmed_global.csv\")\n",
    "print(\">>>>>> Bases de dados importadas com sucesso <<<<<<<<\")"
   ],
   "metadata": {
    "collapsed": false,
    "pycharm": {
     "name": "#%%\n"
    }
   }
  },
  {
   "cell_type": "code",
   "execution_count": 5,
   "outputs": [
    {
     "name": "stdout",
     "output_type": "stream",
     "text": [
      "### Deaths cases dataframe ###\n"
     ]
    },
    {
     "data": {
      "text/plain": "              Lat        Long     1/22/20     1/23/20     1/24/20     1/25/20  \\\ncount  283.000000  283.000000  285.000000  285.000000  285.000000  285.000000   \nmean    20.177865   22.331691    0.059649    0.063158    0.091228    0.147368   \nstd     25.823619   76.018064    1.006993    1.008526    1.423678    2.370454   \nmin    -71.949900 -178.116500    0.000000    0.000000    0.000000    0.000000   \n25%      4.715658  -21.031300    0.000000    0.000000    0.000000    0.000000   \n50%     21.694000   20.939400    0.000000    0.000000    0.000000    0.000000   \n75%     40.788284   86.666250    0.000000    0.000000    0.000000    0.000000   \nmax     71.706900  178.065000   17.000000   17.000000   24.000000   40.000000   \n\n          1/26/20     1/27/20     1/28/20     1/29/20  ...       5/24/22  \\\ncount  285.000000  285.000000  285.000000  285.000000  ...  2.850000e+02   \nmean     0.196491    0.287719    0.459649    0.466667  ...  2.204351e+04   \nstd      3.081634    4.502897    7.404506    7.405017  ...  8.708027e+04   \nmin      0.000000    0.000000    0.000000    0.000000  ...  0.000000e+00   \n25%      0.000000    0.000000    0.000000    0.000000  ...  5.700000e+01   \n50%      0.000000    0.000000    0.000000    0.000000  ...  8.620000e+02   \n75%      0.000000    0.000000    0.000000    0.000000  ...  8.232000e+03   \nmax     52.000000   76.000000  125.000000  125.000000  ...  1.004698e+06   \n\n            5/25/22       5/26/22       5/27/22       5/28/22       5/29/22  \\\ncount  2.850000e+02  2.850000e+02  2.850000e+02  2.850000e+02  2.850000e+02   \nmean   2.205282e+04  2.205795e+04  2.206492e+04  2.206740e+04  2.206915e+04   \nstd    8.713022e+04  8.714486e+04  8.717483e+04  8.717992e+04  8.718229e+04   \nmin    0.000000e+00  0.000000e+00  0.000000e+00  0.000000e+00  0.000000e+00   \n25%    5.700000e+01  5.700000e+01  5.700000e+01  5.700000e+01  5.700000e+01   \n50%    8.620000e+02  8.630000e+02  8.630000e+02  8.630000e+02  8.630000e+02   \n75%    8.236000e+03  8.239000e+03  8.244000e+03  8.247000e+03  8.249000e+03   \nmax    1.005767e+06  1.006100e+06  1.006652e+06  1.006685e+06  1.006650e+06   \n\n            5/30/22       5/31/22        6/1/22        6/2/22  \ncount  2.850000e+02  2.850000e+02  2.850000e+02  2.850000e+02  \nmean   2.207353e+04  2.207906e+04  2.208648e+04  2.209204e+04  \nstd    8.719021e+04  8.721334e+04  8.724638e+04  8.726501e+04  \nmin    0.000000e+00  0.000000e+00  0.000000e+00  0.000000e+00  \n25%    5.700000e+01  5.700000e+01  5.700000e+01  5.700000e+01  \n50%    8.630000e+02  8.640000e+02  8.640000e+02  8.640000e+02  \n75%    8.254000e+03  8.255000e+03  8.258000e+03  8.262000e+03  \nmax    1.006677e+06  1.007061e+06  1.007714e+06  1.008031e+06  \n\n[8 rows x 865 columns]",
      "text/html": "<div>\n<style scoped>\n    .dataframe tbody tr th:only-of-type {\n        vertical-align: middle;\n    }\n\n    .dataframe tbody tr th {\n        vertical-align: top;\n    }\n\n    .dataframe thead th {\n        text-align: right;\n    }\n</style>\n<table border=\"1\" class=\"dataframe\">\n  <thead>\n    <tr style=\"text-align: right;\">\n      <th></th>\n      <th>Lat</th>\n      <th>Long</th>\n      <th>1/22/20</th>\n      <th>1/23/20</th>\n      <th>1/24/20</th>\n      <th>1/25/20</th>\n      <th>1/26/20</th>\n      <th>1/27/20</th>\n      <th>1/28/20</th>\n      <th>1/29/20</th>\n      <th>...</th>\n      <th>5/24/22</th>\n      <th>5/25/22</th>\n      <th>5/26/22</th>\n      <th>5/27/22</th>\n      <th>5/28/22</th>\n      <th>5/29/22</th>\n      <th>5/30/22</th>\n      <th>5/31/22</th>\n      <th>6/1/22</th>\n      <th>6/2/22</th>\n    </tr>\n  </thead>\n  <tbody>\n    <tr>\n      <th>count</th>\n      <td>283.000000</td>\n      <td>283.000000</td>\n      <td>285.000000</td>\n      <td>285.000000</td>\n      <td>285.000000</td>\n      <td>285.000000</td>\n      <td>285.000000</td>\n      <td>285.000000</td>\n      <td>285.000000</td>\n      <td>285.000000</td>\n      <td>...</td>\n      <td>2.850000e+02</td>\n      <td>2.850000e+02</td>\n      <td>2.850000e+02</td>\n      <td>2.850000e+02</td>\n      <td>2.850000e+02</td>\n      <td>2.850000e+02</td>\n      <td>2.850000e+02</td>\n      <td>2.850000e+02</td>\n      <td>2.850000e+02</td>\n      <td>2.850000e+02</td>\n    </tr>\n    <tr>\n      <th>mean</th>\n      <td>20.177865</td>\n      <td>22.331691</td>\n      <td>0.059649</td>\n      <td>0.063158</td>\n      <td>0.091228</td>\n      <td>0.147368</td>\n      <td>0.196491</td>\n      <td>0.287719</td>\n      <td>0.459649</td>\n      <td>0.466667</td>\n      <td>...</td>\n      <td>2.204351e+04</td>\n      <td>2.205282e+04</td>\n      <td>2.205795e+04</td>\n      <td>2.206492e+04</td>\n      <td>2.206740e+04</td>\n      <td>2.206915e+04</td>\n      <td>2.207353e+04</td>\n      <td>2.207906e+04</td>\n      <td>2.208648e+04</td>\n      <td>2.209204e+04</td>\n    </tr>\n    <tr>\n      <th>std</th>\n      <td>25.823619</td>\n      <td>76.018064</td>\n      <td>1.006993</td>\n      <td>1.008526</td>\n      <td>1.423678</td>\n      <td>2.370454</td>\n      <td>3.081634</td>\n      <td>4.502897</td>\n      <td>7.404506</td>\n      <td>7.405017</td>\n      <td>...</td>\n      <td>8.708027e+04</td>\n      <td>8.713022e+04</td>\n      <td>8.714486e+04</td>\n      <td>8.717483e+04</td>\n      <td>8.717992e+04</td>\n      <td>8.718229e+04</td>\n      <td>8.719021e+04</td>\n      <td>8.721334e+04</td>\n      <td>8.724638e+04</td>\n      <td>8.726501e+04</td>\n    </tr>\n    <tr>\n      <th>min</th>\n      <td>-71.949900</td>\n      <td>-178.116500</td>\n      <td>0.000000</td>\n      <td>0.000000</td>\n      <td>0.000000</td>\n      <td>0.000000</td>\n      <td>0.000000</td>\n      <td>0.000000</td>\n      <td>0.000000</td>\n      <td>0.000000</td>\n      <td>...</td>\n      <td>0.000000e+00</td>\n      <td>0.000000e+00</td>\n      <td>0.000000e+00</td>\n      <td>0.000000e+00</td>\n      <td>0.000000e+00</td>\n      <td>0.000000e+00</td>\n      <td>0.000000e+00</td>\n      <td>0.000000e+00</td>\n      <td>0.000000e+00</td>\n      <td>0.000000e+00</td>\n    </tr>\n    <tr>\n      <th>25%</th>\n      <td>4.715658</td>\n      <td>-21.031300</td>\n      <td>0.000000</td>\n      <td>0.000000</td>\n      <td>0.000000</td>\n      <td>0.000000</td>\n      <td>0.000000</td>\n      <td>0.000000</td>\n      <td>0.000000</td>\n      <td>0.000000</td>\n      <td>...</td>\n      <td>5.700000e+01</td>\n      <td>5.700000e+01</td>\n      <td>5.700000e+01</td>\n      <td>5.700000e+01</td>\n      <td>5.700000e+01</td>\n      <td>5.700000e+01</td>\n      <td>5.700000e+01</td>\n      <td>5.700000e+01</td>\n      <td>5.700000e+01</td>\n      <td>5.700000e+01</td>\n    </tr>\n    <tr>\n      <th>50%</th>\n      <td>21.694000</td>\n      <td>20.939400</td>\n      <td>0.000000</td>\n      <td>0.000000</td>\n      <td>0.000000</td>\n      <td>0.000000</td>\n      <td>0.000000</td>\n      <td>0.000000</td>\n      <td>0.000000</td>\n      <td>0.000000</td>\n      <td>...</td>\n      <td>8.620000e+02</td>\n      <td>8.620000e+02</td>\n      <td>8.630000e+02</td>\n      <td>8.630000e+02</td>\n      <td>8.630000e+02</td>\n      <td>8.630000e+02</td>\n      <td>8.630000e+02</td>\n      <td>8.640000e+02</td>\n      <td>8.640000e+02</td>\n      <td>8.640000e+02</td>\n    </tr>\n    <tr>\n      <th>75%</th>\n      <td>40.788284</td>\n      <td>86.666250</td>\n      <td>0.000000</td>\n      <td>0.000000</td>\n      <td>0.000000</td>\n      <td>0.000000</td>\n      <td>0.000000</td>\n      <td>0.000000</td>\n      <td>0.000000</td>\n      <td>0.000000</td>\n      <td>...</td>\n      <td>8.232000e+03</td>\n      <td>8.236000e+03</td>\n      <td>8.239000e+03</td>\n      <td>8.244000e+03</td>\n      <td>8.247000e+03</td>\n      <td>8.249000e+03</td>\n      <td>8.254000e+03</td>\n      <td>8.255000e+03</td>\n      <td>8.258000e+03</td>\n      <td>8.262000e+03</td>\n    </tr>\n    <tr>\n      <th>max</th>\n      <td>71.706900</td>\n      <td>178.065000</td>\n      <td>17.000000</td>\n      <td>17.000000</td>\n      <td>24.000000</td>\n      <td>40.000000</td>\n      <td>52.000000</td>\n      <td>76.000000</td>\n      <td>125.000000</td>\n      <td>125.000000</td>\n      <td>...</td>\n      <td>1.004698e+06</td>\n      <td>1.005767e+06</td>\n      <td>1.006100e+06</td>\n      <td>1.006652e+06</td>\n      <td>1.006685e+06</td>\n      <td>1.006650e+06</td>\n      <td>1.006677e+06</td>\n      <td>1.007061e+06</td>\n      <td>1.007714e+06</td>\n      <td>1.008031e+06</td>\n    </tr>\n  </tbody>\n</table>\n<p>8 rows × 865 columns</p>\n</div>"
     },
     "metadata": {},
     "output_type": "display_data"
    },
    {
     "name": "stdout",
     "output_type": "stream",
     "text": [
      "### Confirmed cases dataframe ###\n"
     ]
    },
    {
     "data": {
      "text/plain": "              Lat        Long     1/22/20     1/23/20     1/24/20     1/25/20  \\\ncount  283.000000  283.000000  285.000000  285.000000  285.000000  285.000000   \nmean    20.177865   22.331691    1.954386    2.305263    3.312281    5.042105   \nstd     25.823619   76.018064   26.356334   26.453150   32.934485   45.839489   \nmin    -71.949900 -178.116500    0.000000    0.000000    0.000000    0.000000   \n25%      4.715658  -21.031300    0.000000    0.000000    0.000000    0.000000   \n50%     21.694000   20.939400    0.000000    0.000000    0.000000    0.000000   \n75%     40.788284   86.666250    0.000000    0.000000    0.000000    0.000000   \nmax     71.706900  178.065000  444.000000  444.000000  549.000000  761.000000   \n\n           1/26/20      1/27/20      1/28/20      1/29/20  ...       5/24/22  \\\ncount   285.000000   285.000000   285.000000   285.000000  ...  2.850000e+02   \nmean      7.438596    10.277193    19.578947    21.645614  ...  1.847081e+06   \nstd      64.063684    86.317566   211.793095   213.098397  ...  6.771069e+06   \nmin       0.000000     0.000000     0.000000     0.000000  ...  0.000000e+00   \n25%       0.000000     0.000000     0.000000     0.000000  ...  1.150000e+04   \n50%       0.000000     0.000000     0.000000     0.000000  ...  8.763300e+04   \n75%       0.000000     0.000000     0.000000     0.000000  ...  9.054680e+05   \nmax    1058.000000  1423.000000  3554.000000  3554.000000  ...  8.352139e+07   \n\n            5/25/22       5/26/22       5/27/22       5/28/22       5/29/22  \\\ncount  2.850000e+02  2.850000e+02  2.850000e+02  2.850000e+02  2.850000e+02   \nmean   1.849302e+06  1.851102e+06  1.853097e+06  1.854096e+06  1.855017e+06   \nstd    6.781710e+06  6.789372e+06  6.796026e+06  6.797753e+06  6.798419e+06   \nmin    0.000000e+00  0.000000e+00  0.000000e+00  0.000000e+00  0.000000e+00   \n25%    1.150000e+04  1.150000e+04  1.156600e+04  1.163600e+04  1.163600e+04   \n50%    8.803600e+04  8.803600e+04  8.803600e+04  8.803600e+04  8.803600e+04   \n75%    9.058410e+05  9.062360e+05  9.066390e+05  9.070690e+05  9.074410e+05   \nmax    8.373136e+07  8.387672e+07  8.398456e+07  8.399705e+07  8.399113e+07   \n\n            5/30/22       5/31/22        6/1/22        6/2/22  \ncount  2.850000e+02  2.850000e+02  2.850000e+02  2.850000e+02  \nmean   1.856432e+06  1.858621e+06  1.861044e+06  1.862872e+06  \nstd    6.802783e+06  6.812364e+06  6.824552e+06  6.831631e+06  \nmin    0.000000e+00  0.000000e+00  0.000000e+00  0.000000e+00  \n25%    1.164400e+04  1.164400e+04  1.174200e+04  1.174200e+04  \n50%    8.837400e+04  8.837400e+04  8.837400e+04  8.918900e+04  \n75%    9.078240e+05  9.082050e+05  9.086470e+05  9.092220e+05  \nmax    8.405084e+07  8.421777e+07  8.445190e+07  8.457032e+07  \n\n[8 rows x 865 columns]",
      "text/html": "<div>\n<style scoped>\n    .dataframe tbody tr th:only-of-type {\n        vertical-align: middle;\n    }\n\n    .dataframe tbody tr th {\n        vertical-align: top;\n    }\n\n    .dataframe thead th {\n        text-align: right;\n    }\n</style>\n<table border=\"1\" class=\"dataframe\">\n  <thead>\n    <tr style=\"text-align: right;\">\n      <th></th>\n      <th>Lat</th>\n      <th>Long</th>\n      <th>1/22/20</th>\n      <th>1/23/20</th>\n      <th>1/24/20</th>\n      <th>1/25/20</th>\n      <th>1/26/20</th>\n      <th>1/27/20</th>\n      <th>1/28/20</th>\n      <th>1/29/20</th>\n      <th>...</th>\n      <th>5/24/22</th>\n      <th>5/25/22</th>\n      <th>5/26/22</th>\n      <th>5/27/22</th>\n      <th>5/28/22</th>\n      <th>5/29/22</th>\n      <th>5/30/22</th>\n      <th>5/31/22</th>\n      <th>6/1/22</th>\n      <th>6/2/22</th>\n    </tr>\n  </thead>\n  <tbody>\n    <tr>\n      <th>count</th>\n      <td>283.000000</td>\n      <td>283.000000</td>\n      <td>285.000000</td>\n      <td>285.000000</td>\n      <td>285.000000</td>\n      <td>285.000000</td>\n      <td>285.000000</td>\n      <td>285.000000</td>\n      <td>285.000000</td>\n      <td>285.000000</td>\n      <td>...</td>\n      <td>2.850000e+02</td>\n      <td>2.850000e+02</td>\n      <td>2.850000e+02</td>\n      <td>2.850000e+02</td>\n      <td>2.850000e+02</td>\n      <td>2.850000e+02</td>\n      <td>2.850000e+02</td>\n      <td>2.850000e+02</td>\n      <td>2.850000e+02</td>\n      <td>2.850000e+02</td>\n    </tr>\n    <tr>\n      <th>mean</th>\n      <td>20.177865</td>\n      <td>22.331691</td>\n      <td>1.954386</td>\n      <td>2.305263</td>\n      <td>3.312281</td>\n      <td>5.042105</td>\n      <td>7.438596</td>\n      <td>10.277193</td>\n      <td>19.578947</td>\n      <td>21.645614</td>\n      <td>...</td>\n      <td>1.847081e+06</td>\n      <td>1.849302e+06</td>\n      <td>1.851102e+06</td>\n      <td>1.853097e+06</td>\n      <td>1.854096e+06</td>\n      <td>1.855017e+06</td>\n      <td>1.856432e+06</td>\n      <td>1.858621e+06</td>\n      <td>1.861044e+06</td>\n      <td>1.862872e+06</td>\n    </tr>\n    <tr>\n      <th>std</th>\n      <td>25.823619</td>\n      <td>76.018064</td>\n      <td>26.356334</td>\n      <td>26.453150</td>\n      <td>32.934485</td>\n      <td>45.839489</td>\n      <td>64.063684</td>\n      <td>86.317566</td>\n      <td>211.793095</td>\n      <td>213.098397</td>\n      <td>...</td>\n      <td>6.771069e+06</td>\n      <td>6.781710e+06</td>\n      <td>6.789372e+06</td>\n      <td>6.796026e+06</td>\n      <td>6.797753e+06</td>\n      <td>6.798419e+06</td>\n      <td>6.802783e+06</td>\n      <td>6.812364e+06</td>\n      <td>6.824552e+06</td>\n      <td>6.831631e+06</td>\n    </tr>\n    <tr>\n      <th>min</th>\n      <td>-71.949900</td>\n      <td>-178.116500</td>\n      <td>0.000000</td>\n      <td>0.000000</td>\n      <td>0.000000</td>\n      <td>0.000000</td>\n      <td>0.000000</td>\n      <td>0.000000</td>\n      <td>0.000000</td>\n      <td>0.000000</td>\n      <td>...</td>\n      <td>0.000000e+00</td>\n      <td>0.000000e+00</td>\n      <td>0.000000e+00</td>\n      <td>0.000000e+00</td>\n      <td>0.000000e+00</td>\n      <td>0.000000e+00</td>\n      <td>0.000000e+00</td>\n      <td>0.000000e+00</td>\n      <td>0.000000e+00</td>\n      <td>0.000000e+00</td>\n    </tr>\n    <tr>\n      <th>25%</th>\n      <td>4.715658</td>\n      <td>-21.031300</td>\n      <td>0.000000</td>\n      <td>0.000000</td>\n      <td>0.000000</td>\n      <td>0.000000</td>\n      <td>0.000000</td>\n      <td>0.000000</td>\n      <td>0.000000</td>\n      <td>0.000000</td>\n      <td>...</td>\n      <td>1.150000e+04</td>\n      <td>1.150000e+04</td>\n      <td>1.150000e+04</td>\n      <td>1.156600e+04</td>\n      <td>1.163600e+04</td>\n      <td>1.163600e+04</td>\n      <td>1.164400e+04</td>\n      <td>1.164400e+04</td>\n      <td>1.174200e+04</td>\n      <td>1.174200e+04</td>\n    </tr>\n    <tr>\n      <th>50%</th>\n      <td>21.694000</td>\n      <td>20.939400</td>\n      <td>0.000000</td>\n      <td>0.000000</td>\n      <td>0.000000</td>\n      <td>0.000000</td>\n      <td>0.000000</td>\n      <td>0.000000</td>\n      <td>0.000000</td>\n      <td>0.000000</td>\n      <td>...</td>\n      <td>8.763300e+04</td>\n      <td>8.803600e+04</td>\n      <td>8.803600e+04</td>\n      <td>8.803600e+04</td>\n      <td>8.803600e+04</td>\n      <td>8.803600e+04</td>\n      <td>8.837400e+04</td>\n      <td>8.837400e+04</td>\n      <td>8.837400e+04</td>\n      <td>8.918900e+04</td>\n    </tr>\n    <tr>\n      <th>75%</th>\n      <td>40.788284</td>\n      <td>86.666250</td>\n      <td>0.000000</td>\n      <td>0.000000</td>\n      <td>0.000000</td>\n      <td>0.000000</td>\n      <td>0.000000</td>\n      <td>0.000000</td>\n      <td>0.000000</td>\n      <td>0.000000</td>\n      <td>...</td>\n      <td>9.054680e+05</td>\n      <td>9.058410e+05</td>\n      <td>9.062360e+05</td>\n      <td>9.066390e+05</td>\n      <td>9.070690e+05</td>\n      <td>9.074410e+05</td>\n      <td>9.078240e+05</td>\n      <td>9.082050e+05</td>\n      <td>9.086470e+05</td>\n      <td>9.092220e+05</td>\n    </tr>\n    <tr>\n      <th>max</th>\n      <td>71.706900</td>\n      <td>178.065000</td>\n      <td>444.000000</td>\n      <td>444.000000</td>\n      <td>549.000000</td>\n      <td>761.000000</td>\n      <td>1058.000000</td>\n      <td>1423.000000</td>\n      <td>3554.000000</td>\n      <td>3554.000000</td>\n      <td>...</td>\n      <td>8.352139e+07</td>\n      <td>8.373136e+07</td>\n      <td>8.387672e+07</td>\n      <td>8.398456e+07</td>\n      <td>8.399705e+07</td>\n      <td>8.399113e+07</td>\n      <td>8.405084e+07</td>\n      <td>8.421777e+07</td>\n      <td>8.445190e+07</td>\n      <td>8.457032e+07</td>\n    </tr>\n  </tbody>\n</table>\n<p>8 rows × 865 columns</p>\n</div>"
     },
     "metadata": {},
     "output_type": "display_data"
    }
   ],
   "source": [
    "from IPython.core.display_functions import display\n",
    "print(\"### Deaths cases dataframe ###\")\n",
    "display(deaths.describe())\n",
    "print(\"### Confirmed cases dataframe ###\")\n",
    "display(confirmed.describe())"
   ],
   "metadata": {
    "collapsed": false,
    "pycharm": {
     "name": "#%%\n"
    }
   }
  },
  {
   "cell_type": "code",
   "execution_count": null,
   "outputs": [],
   "source": [],
   "metadata": {
    "collapsed": false,
    "pycharm": {
     "name": "#%%\n"
    }
   }
  }
 ],
 "metadata": {
  "kernelspec": {
   "display_name": "Python 3 (ipykernel)",
   "language": "python",
   "name": "python3"
  },
  "language_info": {
   "codemirror_mode": {
    "name": "ipython",
    "version": 3
   },
   "file_extension": ".py",
   "mimetype": "text/x-python",
   "name": "python",
   "nbconvert_exporter": "python",
   "pygments_lexer": "ipython3",
   "version": "3.9.7"
  }
 },
 "nbformat": 4,
 "nbformat_minor": 5
}